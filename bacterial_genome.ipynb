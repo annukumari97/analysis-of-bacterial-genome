{
  "nbformat": 4,
  "nbformat_minor": 0,
  "metadata": {
    "colab": {
      "provenance": [],
      "gpuType": "T4",
      "mount_file_id": "1YxpWLZPOBCR2VoqKhkHXebJWTOBFzN0P",
      "authorship_tag": "ABX9TyNp41PpfNdpZ9r+Bfp14QA+",
      "include_colab_link": true
    },
    "kernelspec": {
      "name": "python3",
      "display_name": "Python 3"
    },
    "language_info": {
      "name": "python"
    },
    "accelerator": "GPU",
    "widgets": {
      "application/vnd.jupyter.widget-state+json": {
        "cf406c9ef3b941bea6907005911eec01": {
          "model_module": "nglview-js-widgets",
          "model_name": "ColormakerRegistryModel",
          "model_module_version": "3.0.8",
          "state": {
            "_dom_classes": [],
            "_model_module": "nglview-js-widgets",
            "_model_module_version": "3.0.8",
            "_model_name": "ColormakerRegistryModel",
            "_msg_ar": [],
            "_msg_q": [],
            "_ready": false,
            "_view_count": null,
            "_view_module": "nglview-js-widgets",
            "_view_module_version": "3.0.8",
            "_view_name": "ColormakerRegistryView",
            "layout": "IPY_MODEL_579dec9edd6b45fe8fb1b2852492d880"
          }
        }
      }
    }
  },
  "cells": [
    {
      "cell_type": "markdown",
      "metadata": {
        "id": "view-in-github",
        "colab_type": "text"
      },
      "source": [
        "<a href=\"https://colab.research.google.com/github/annukumari97/analysis-of-bacterial-genome/blob/main/bacterial_genome.ipynb\" target=\"_parent\"><img src=\"https://colab.research.google.com/assets/colab-badge.svg\" alt=\"Open In Colab\"/></a>"
      ]
    },
    {
      "cell_type": "code",
      "execution_count": 3,
      "metadata": {
        "colab": {
          "base_uri": "https://localhost:8080/"
        },
        "id": "DZBqDqgugPbf",
        "outputId": "6dbcc5d5-698b-4789-f50a-e0b3e34c7929"
      },
      "outputs": [
        {
          "output_type": "stream",
          "name": "stdout",
          "text": [
            "Collecting biopython\n",
            "  Downloading biopython-1.81-cp310-cp310-manylinux_2_17_x86_64.manylinux2014_x86_64.whl (3.1 MB)\n",
            "\u001b[2K     \u001b[90m━━━━━━━━━━━━━━━━━━━━━━━━━━━━━━━━━━━━━━━━\u001b[0m \u001b[32m3.1/3.1 MB\u001b[0m \u001b[31m18.5 MB/s\u001b[0m eta \u001b[36m0:00:00\u001b[0m\n",
            "\u001b[?25hRequirement already satisfied: numpy in /usr/local/lib/python3.10/dist-packages (from biopython) (1.23.5)\n",
            "Installing collected packages: biopython\n",
            "Successfully installed biopython-1.81\n"
          ]
        }
      ],
      "source": [
        "!pip install biopython"
      ]
    },
    {
      "cell_type": "code",
      "source": [
        "!pip install colorama"
      ],
      "metadata": {
        "colab": {
          "base_uri": "https://localhost:8080/"
        },
        "id": "wZijGEF2dM5B",
        "outputId": "e0201598-5a21-4f6f-9e28-ef4097ea6880"
      },
      "execution_count": 4,
      "outputs": [
        {
          "output_type": "stream",
          "name": "stdout",
          "text": [
            "Collecting colorama\n",
            "  Downloading colorama-0.4.6-py2.py3-none-any.whl (25 kB)\n",
            "Installing collected packages: colorama\n",
            "Successfully installed colorama-0.4.6\n"
          ]
        }
      ]
    },
    {
      "cell_type": "code",
      "source": [
        "from Bio.Seq import Seq\n",
        "from Bio.SeqUtils import seq1\n",
        "!pip install nglview\n",
        "import Bio\n",
        "from Bio.SeqRecord import SeqRecord\n",
        "from Bio import SeqIO\n",
        "from Bio import AlignIO\n",
        "from Bio.Align import PairwiseAligner\n",
        "from Bio.Align import MultipleSeqAlignment\n",
        "from Bio.Blast import NCBIWWW\n",
        "from Bio.SeqUtils.ProtParam import ProteinAnalysis\n",
        "from Bio.Data import CodonTable\n",
        "import nglview as nv\n",
        "import matplotlib.pyplot as plt\n",
        "%matplotlib inline\n",
        "import seaborn as sns\n",
        "import pandas as pd\n",
        "from termcolor import colored\n",
        "from colorama import Back, Style, Fore"
      ],
      "metadata": {
        "colab": {
          "base_uri": "https://localhost:8080/",
          "height": 1000,
          "referenced_widgets": [
            "cf406c9ef3b941bea6907005911eec01"
          ]
        },
        "id": "fPjsBVT0gi7c",
        "outputId": "f78ffe63-486d-4d65-b0a8-c2f9ba9ba977"
      },
      "execution_count": 5,
      "outputs": [
        {
          "output_type": "stream",
          "name": "stdout",
          "text": [
            "Collecting nglview\n",
            "  Downloading nglview-3.0.8.tar.gz (6.8 MB)\n",
            "\u001b[2K     \u001b[90m━━━━━━━━━━━━━━━━━━━━━━━━━━━━━━━━━━━━━━━━\u001b[0m \u001b[32m6.8/6.8 MB\u001b[0m \u001b[31m20.6 MB/s\u001b[0m eta \u001b[36m0:00:00\u001b[0m\n",
            "\u001b[?25h  Installing build dependencies ... \u001b[?25l\u001b[?25hdone\n",
            "  Getting requirements to build wheel ... \u001b[?25l\u001b[?25hdone\n",
            "  Preparing metadata (pyproject.toml) ... \u001b[?25l\u001b[?25hdone\n",
            "Requirement already satisfied: ipywidgets>=7 in /usr/local/lib/python3.10/dist-packages (from nglview) (7.7.1)\n",
            "Requirement already satisfied: jupyterlab-widgets in /usr/local/lib/python3.10/dist-packages (from nglview) (3.0.9)\n",
            "Requirement already satisfied: numpy in /usr/local/lib/python3.10/dist-packages (from nglview) (1.23.5)\n",
            "Requirement already satisfied: ipykernel>=4.5.1 in /usr/local/lib/python3.10/dist-packages (from ipywidgets>=7->nglview) (5.5.6)\n",
            "Requirement already satisfied: ipython-genutils~=0.2.0 in /usr/local/lib/python3.10/dist-packages (from ipywidgets>=7->nglview) (0.2.0)\n",
            "Requirement already satisfied: traitlets>=4.3.1 in /usr/local/lib/python3.10/dist-packages (from ipywidgets>=7->nglview) (5.7.1)\n",
            "Requirement already satisfied: widgetsnbextension~=3.6.0 in /usr/local/lib/python3.10/dist-packages (from ipywidgets>=7->nglview) (3.6.6)\n",
            "Requirement already satisfied: ipython>=4.0.0 in /usr/local/lib/python3.10/dist-packages (from ipywidgets>=7->nglview) (7.34.0)\n",
            "Requirement already satisfied: jupyter-client in /usr/local/lib/python3.10/dist-packages (from ipykernel>=4.5.1->ipywidgets>=7->nglview) (6.1.12)\n",
            "Requirement already satisfied: tornado>=4.2 in /usr/local/lib/python3.10/dist-packages (from ipykernel>=4.5.1->ipywidgets>=7->nglview) (6.3.2)\n",
            "Requirement already satisfied: setuptools>=18.5 in /usr/local/lib/python3.10/dist-packages (from ipython>=4.0.0->ipywidgets>=7->nglview) (67.7.2)\n",
            "Collecting jedi>=0.16 (from ipython>=4.0.0->ipywidgets>=7->nglview)\n",
            "  Downloading jedi-0.19.1-py2.py3-none-any.whl (1.6 MB)\n",
            "\u001b[2K     \u001b[90m━━━━━━━━━━━━━━━━━━━━━━━━━━━━━━━━━━━━━━━━\u001b[0m \u001b[32m1.6/1.6 MB\u001b[0m \u001b[31m39.8 MB/s\u001b[0m eta \u001b[36m0:00:00\u001b[0m\n",
            "\u001b[?25hRequirement already satisfied: decorator in /usr/local/lib/python3.10/dist-packages (from ipython>=4.0.0->ipywidgets>=7->nglview) (4.4.2)\n",
            "Requirement already satisfied: pickleshare in /usr/local/lib/python3.10/dist-packages (from ipython>=4.0.0->ipywidgets>=7->nglview) (0.7.5)\n",
            "Requirement already satisfied: prompt-toolkit!=3.0.0,!=3.0.1,<3.1.0,>=2.0.0 in /usr/local/lib/python3.10/dist-packages (from ipython>=4.0.0->ipywidgets>=7->nglview) (3.0.43)\n",
            "Requirement already satisfied: pygments in /usr/local/lib/python3.10/dist-packages (from ipython>=4.0.0->ipywidgets>=7->nglview) (2.16.1)\n",
            "Requirement already satisfied: backcall in /usr/local/lib/python3.10/dist-packages (from ipython>=4.0.0->ipywidgets>=7->nglview) (0.2.0)\n",
            "Requirement already satisfied: matplotlib-inline in /usr/local/lib/python3.10/dist-packages (from ipython>=4.0.0->ipywidgets>=7->nglview) (0.1.6)\n",
            "Requirement already satisfied: pexpect>4.3 in /usr/local/lib/python3.10/dist-packages (from ipython>=4.0.0->ipywidgets>=7->nglview) (4.9.0)\n",
            "Requirement already satisfied: notebook>=4.4.1 in /usr/local/lib/python3.10/dist-packages (from widgetsnbextension~=3.6.0->ipywidgets>=7->nglview) (6.5.5)\n",
            "Requirement already satisfied: parso<0.9.0,>=0.8.3 in /usr/local/lib/python3.10/dist-packages (from jedi>=0.16->ipython>=4.0.0->ipywidgets>=7->nglview) (0.8.3)\n",
            "Requirement already satisfied: jinja2 in /usr/local/lib/python3.10/dist-packages (from notebook>=4.4.1->widgetsnbextension~=3.6.0->ipywidgets>=7->nglview) (3.1.2)\n",
            "Requirement already satisfied: pyzmq<25,>=17 in /usr/local/lib/python3.10/dist-packages (from notebook>=4.4.1->widgetsnbextension~=3.6.0->ipywidgets>=7->nglview) (23.2.1)\n",
            "Requirement already satisfied: argon2-cffi in /usr/local/lib/python3.10/dist-packages (from notebook>=4.4.1->widgetsnbextension~=3.6.0->ipywidgets>=7->nglview) (23.1.0)\n",
            "Requirement already satisfied: jupyter-core>=4.6.1 in /usr/local/lib/python3.10/dist-packages (from notebook>=4.4.1->widgetsnbextension~=3.6.0->ipywidgets>=7->nglview) (5.5.0)\n",
            "Requirement already satisfied: nbformat in /usr/local/lib/python3.10/dist-packages (from notebook>=4.4.1->widgetsnbextension~=3.6.0->ipywidgets>=7->nglview) (5.9.2)\n",
            "Requirement already satisfied: nbconvert>=5 in /usr/local/lib/python3.10/dist-packages (from notebook>=4.4.1->widgetsnbextension~=3.6.0->ipywidgets>=7->nglview) (6.5.4)\n",
            "Requirement already satisfied: nest-asyncio>=1.5 in /usr/local/lib/python3.10/dist-packages (from notebook>=4.4.1->widgetsnbextension~=3.6.0->ipywidgets>=7->nglview) (1.5.8)\n",
            "Requirement already satisfied: Send2Trash>=1.8.0 in /usr/local/lib/python3.10/dist-packages (from notebook>=4.4.1->widgetsnbextension~=3.6.0->ipywidgets>=7->nglview) (1.8.2)\n",
            "Requirement already satisfied: terminado>=0.8.3 in /usr/local/lib/python3.10/dist-packages (from notebook>=4.4.1->widgetsnbextension~=3.6.0->ipywidgets>=7->nglview) (0.18.0)\n",
            "Requirement already satisfied: prometheus-client in /usr/local/lib/python3.10/dist-packages (from notebook>=4.4.1->widgetsnbextension~=3.6.0->ipywidgets>=7->nglview) (0.19.0)\n",
            "Requirement already satisfied: nbclassic>=0.4.7 in /usr/local/lib/python3.10/dist-packages (from notebook>=4.4.1->widgetsnbextension~=3.6.0->ipywidgets>=7->nglview) (1.0.0)\n",
            "Requirement already satisfied: python-dateutil>=2.1 in /usr/local/lib/python3.10/dist-packages (from jupyter-client->ipykernel>=4.5.1->ipywidgets>=7->nglview) (2.8.2)\n",
            "Requirement already satisfied: ptyprocess>=0.5 in /usr/local/lib/python3.10/dist-packages (from pexpect>4.3->ipython>=4.0.0->ipywidgets>=7->nglview) (0.7.0)\n",
            "Requirement already satisfied: wcwidth in /usr/local/lib/python3.10/dist-packages (from prompt-toolkit!=3.0.0,!=3.0.1,<3.1.0,>=2.0.0->ipython>=4.0.0->ipywidgets>=7->nglview) (0.2.12)\n",
            "Requirement already satisfied: platformdirs>=2.5 in /usr/local/lib/python3.10/dist-packages (from jupyter-core>=4.6.1->notebook>=4.4.1->widgetsnbextension~=3.6.0->ipywidgets>=7->nglview) (4.1.0)\n",
            "Requirement already satisfied: jupyter-server>=1.8 in /usr/local/lib/python3.10/dist-packages (from nbclassic>=0.4.7->notebook>=4.4.1->widgetsnbextension~=3.6.0->ipywidgets>=7->nglview) (1.24.0)\n",
            "Requirement already satisfied: notebook-shim>=0.2.3 in /usr/local/lib/python3.10/dist-packages (from nbclassic>=0.4.7->notebook>=4.4.1->widgetsnbextension~=3.6.0->ipywidgets>=7->nglview) (0.2.3)\n",
            "Requirement already satisfied: lxml in /usr/local/lib/python3.10/dist-packages (from nbconvert>=5->notebook>=4.4.1->widgetsnbextension~=3.6.0->ipywidgets>=7->nglview) (4.9.3)\n",
            "Requirement already satisfied: beautifulsoup4 in /usr/local/lib/python3.10/dist-packages (from nbconvert>=5->notebook>=4.4.1->widgetsnbextension~=3.6.0->ipywidgets>=7->nglview) (4.11.2)\n",
            "Requirement already satisfied: bleach in /usr/local/lib/python3.10/dist-packages (from nbconvert>=5->notebook>=4.4.1->widgetsnbextension~=3.6.0->ipywidgets>=7->nglview) (6.1.0)\n",
            "Requirement already satisfied: defusedxml in /usr/local/lib/python3.10/dist-packages (from nbconvert>=5->notebook>=4.4.1->widgetsnbextension~=3.6.0->ipywidgets>=7->nglview) (0.7.1)\n",
            "Requirement already satisfied: entrypoints>=0.2.2 in /usr/local/lib/python3.10/dist-packages (from nbconvert>=5->notebook>=4.4.1->widgetsnbextension~=3.6.0->ipywidgets>=7->nglview) (0.4)\n",
            "Requirement already satisfied: jupyterlab-pygments in /usr/local/lib/python3.10/dist-packages (from nbconvert>=5->notebook>=4.4.1->widgetsnbextension~=3.6.0->ipywidgets>=7->nglview) (0.3.0)\n",
            "Requirement already satisfied: MarkupSafe>=2.0 in /usr/local/lib/python3.10/dist-packages (from nbconvert>=5->notebook>=4.4.1->widgetsnbextension~=3.6.0->ipywidgets>=7->nglview) (2.1.3)\n",
            "Requirement already satisfied: mistune<2,>=0.8.1 in /usr/local/lib/python3.10/dist-packages (from nbconvert>=5->notebook>=4.4.1->widgetsnbextension~=3.6.0->ipywidgets>=7->nglview) (0.8.4)\n",
            "Requirement already satisfied: nbclient>=0.5.0 in /usr/local/lib/python3.10/dist-packages (from nbconvert>=5->notebook>=4.4.1->widgetsnbextension~=3.6.0->ipywidgets>=7->nglview) (0.9.0)\n",
            "Requirement already satisfied: packaging in /usr/local/lib/python3.10/dist-packages (from nbconvert>=5->notebook>=4.4.1->widgetsnbextension~=3.6.0->ipywidgets>=7->nglview) (23.2)\n",
            "Requirement already satisfied: pandocfilters>=1.4.1 in /usr/local/lib/python3.10/dist-packages (from nbconvert>=5->notebook>=4.4.1->widgetsnbextension~=3.6.0->ipywidgets>=7->nglview) (1.5.0)\n",
            "Requirement already satisfied: tinycss2 in /usr/local/lib/python3.10/dist-packages (from nbconvert>=5->notebook>=4.4.1->widgetsnbextension~=3.6.0->ipywidgets>=7->nglview) (1.2.1)\n",
            "Requirement already satisfied: fastjsonschema in /usr/local/lib/python3.10/dist-packages (from nbformat->notebook>=4.4.1->widgetsnbextension~=3.6.0->ipywidgets>=7->nglview) (2.19.0)\n",
            "Requirement already satisfied: jsonschema>=2.6 in /usr/local/lib/python3.10/dist-packages (from nbformat->notebook>=4.4.1->widgetsnbextension~=3.6.0->ipywidgets>=7->nglview) (4.19.2)\n",
            "Requirement already satisfied: six>=1.5 in /usr/local/lib/python3.10/dist-packages (from python-dateutil>=2.1->jupyter-client->ipykernel>=4.5.1->ipywidgets>=7->nglview) (1.16.0)\n",
            "Requirement already satisfied: argon2-cffi-bindings in /usr/local/lib/python3.10/dist-packages (from argon2-cffi->notebook>=4.4.1->widgetsnbextension~=3.6.0->ipywidgets>=7->nglview) (21.2.0)\n",
            "Requirement already satisfied: attrs>=22.2.0 in /usr/local/lib/python3.10/dist-packages (from jsonschema>=2.6->nbformat->notebook>=4.4.1->widgetsnbextension~=3.6.0->ipywidgets>=7->nglview) (23.1.0)\n",
            "Requirement already satisfied: jsonschema-specifications>=2023.03.6 in /usr/local/lib/python3.10/dist-packages (from jsonschema>=2.6->nbformat->notebook>=4.4.1->widgetsnbextension~=3.6.0->ipywidgets>=7->nglview) (2023.11.2)\n",
            "Requirement already satisfied: referencing>=0.28.4 in /usr/local/lib/python3.10/dist-packages (from jsonschema>=2.6->nbformat->notebook>=4.4.1->widgetsnbextension~=3.6.0->ipywidgets>=7->nglview) (0.32.0)\n",
            "Requirement already satisfied: rpds-py>=0.7.1 in /usr/local/lib/python3.10/dist-packages (from jsonschema>=2.6->nbformat->notebook>=4.4.1->widgetsnbextension~=3.6.0->ipywidgets>=7->nglview) (0.13.2)\n",
            "Requirement already satisfied: anyio<4,>=3.1.0 in /usr/local/lib/python3.10/dist-packages (from jupyter-server>=1.8->nbclassic>=0.4.7->notebook>=4.4.1->widgetsnbextension~=3.6.0->ipywidgets>=7->nglview) (3.7.1)\n",
            "Requirement already satisfied: websocket-client in /usr/local/lib/python3.10/dist-packages (from jupyter-server>=1.8->nbclassic>=0.4.7->notebook>=4.4.1->widgetsnbextension~=3.6.0->ipywidgets>=7->nglview) (1.7.0)\n",
            "Requirement already satisfied: cffi>=1.0.1 in /usr/local/lib/python3.10/dist-packages (from argon2-cffi-bindings->argon2-cffi->notebook>=4.4.1->widgetsnbextension~=3.6.0->ipywidgets>=7->nglview) (1.16.0)\n",
            "Requirement already satisfied: soupsieve>1.2 in /usr/local/lib/python3.10/dist-packages (from beautifulsoup4->nbconvert>=5->notebook>=4.4.1->widgetsnbextension~=3.6.0->ipywidgets>=7->nglview) (2.5)\n",
            "Requirement already satisfied: webencodings in /usr/local/lib/python3.10/dist-packages (from bleach->nbconvert>=5->notebook>=4.4.1->widgetsnbextension~=3.6.0->ipywidgets>=7->nglview) (0.5.1)\n",
            "Requirement already satisfied: idna>=2.8 in /usr/local/lib/python3.10/dist-packages (from anyio<4,>=3.1.0->jupyter-server>=1.8->nbclassic>=0.4.7->notebook>=4.4.1->widgetsnbextension~=3.6.0->ipywidgets>=7->nglview) (3.6)\n",
            "Requirement already satisfied: sniffio>=1.1 in /usr/local/lib/python3.10/dist-packages (from anyio<4,>=3.1.0->jupyter-server>=1.8->nbclassic>=0.4.7->notebook>=4.4.1->widgetsnbextension~=3.6.0->ipywidgets>=7->nglview) (1.3.0)\n",
            "Requirement already satisfied: exceptiongroup in /usr/local/lib/python3.10/dist-packages (from anyio<4,>=3.1.0->jupyter-server>=1.8->nbclassic>=0.4.7->notebook>=4.4.1->widgetsnbextension~=3.6.0->ipywidgets>=7->nglview) (1.2.0)\n",
            "Requirement already satisfied: pycparser in /usr/local/lib/python3.10/dist-packages (from cffi>=1.0.1->argon2-cffi-bindings->argon2-cffi->notebook>=4.4.1->widgetsnbextension~=3.6.0->ipywidgets>=7->nglview) (2.21)\n",
            "Building wheels for collected packages: nglview\n",
            "  Building wheel for nglview (pyproject.toml) ... \u001b[?25l\u001b[?25hdone\n",
            "  Created wheel for nglview: filename=nglview-3.0.8-py3-none-any.whl size=10216160 sha256=6a80d4f1997a8f8ae4b31962c8024381e793176322b2eb2232ea55e4713c03d0\n",
            "  Stored in directory: /root/.cache/pip/wheels/2e/6c/59/32bf4aa0134f9c4cdca054f5192839fb4285241e2f17f7d358\n",
            "Successfully built nglview\n",
            "Installing collected packages: jedi, nglview\n",
            "Successfully installed jedi-0.19.1 nglview-3.0.8\n"
          ]
        },
        {
          "output_type": "display_data",
          "data": {
            "text/plain": [],
            "application/vnd.jupyter.widget-view+json": {
              "version_major": 2,
              "version_minor": 0,
              "model_id": "cf406c9ef3b941bea6907005911eec01"
            }
          },
          "metadata": {}
        }
      ]
    },
    {
      "cell_type": "code",
      "source": [
        "#/content/drive/MyDrive/bacterial_seq/ncbi_dataset (1).zip (Unzipped Files)/ncbi_dataset/data/GCF_000292405.1/GCF_000292405.1_ASM29240v1_genomic.fna"
      ],
      "metadata": {
        "id": "mJLuj2WfiA4X"
      },
      "execution_count": 11,
      "outputs": []
    },
    {
      "cell_type": "code",
      "source": [
        "def fna_to_fasta(input_file, output_file):\n",
        "    try:\n",
        "        with open(input_file, 'r') as fna_file, open(output_file, 'w') as fasta_file:\n",
        "            current_sequence = \"\"\n",
        "\n",
        "            for line in fna_file:\n",
        "                line = line.strip()\n",
        "\n",
        "                if line.startswith(\">\"):\n",
        "                    # Process header lines\n",
        "                    header = line[1:]  # Remove the \">\" character\n",
        "                    # Modify header as needed (if required)\n",
        "                    # Example: header = \"modified_\" + header\n",
        "                    fasta_file.write(\">\" + header + \"\\n\")\n",
        "\n",
        "                    # Write the sequence of the previous header (if any)\n",
        "                    if current_sequence:\n",
        "                        fasta_file.write(current_sequence + \"\\n\")\n",
        "                        current_sequence = \"\"\n",
        "                else:\n",
        "                    # Accumulate sequence lines\n",
        "                    current_sequence += line\n",
        "\n",
        "            # Write the last sequence (if any)\n",
        "            if current_sequence:\n",
        "                fasta_file.write(current_sequence + \"\\n\")\n",
        "\n",
        "        print(f\"Conversion complete. Output written to {output_file}\")\n",
        "\n",
        "    except FileNotFoundError:\n",
        "        print(f\"Error: File '{input_file}' not found.\")\n",
        "    except Exception as e:\n",
        "        print(f\"An error occurred: {e}\")\n",
        "\n"
      ],
      "metadata": {
        "id": "Sjhtq09zlzSh"
      },
      "execution_count": 12,
      "outputs": []
    },
    {
      "cell_type": "code",
      "source": [
        "input_fna_file = \"/content/drive/MyDrive/bacterial_seq/ncbi_dataset (1).zip (Unzipped Files)/ncbi_dataset/data/GCF_000292405.1/GCF_000292405.1_ASM29240v1_genomic.fna\"\n",
        "output_fasta_file = \"/content/drive/MyDrive/bacterial_seq/ncbi_dataset.fasta\"\n",
        "fna_to_fasta(input_fna_file, output_fasta_file)"
      ],
      "metadata": {
        "colab": {
          "base_uri": "https://localhost:8080/"
        },
        "id": "eX0GiZGjkmy1",
        "outputId": "aac88130-dd72-4cc7-a417-2bb9a15df76e"
      },
      "execution_count": 13,
      "outputs": [
        {
          "output_type": "stream",
          "name": "stdout",
          "text": [
            "Conversion complete. Output written to /content/drive/MyDrive/bacterial_seq/ncbi_dataset.fasta\n"
          ]
        }
      ]
    },
    {
      "cell_type": "code",
      "source": [
        "# /content/drive/MyDrive/bacterial_seq/ncbi_dataset.fasta"
      ],
      "metadata": {
        "id": "ikBmvslnAJiH"
      },
      "execution_count": 34,
      "outputs": []
    },
    {
      "cell_type": "code",
      "source": [
        "for record in SeqIO.parse(\"/content/drive/MyDrive/bacterial_seq/ncbi_dataset.fasta\", \"fasta\"):\n",
        "    print(record.id)"
      ],
      "metadata": {
        "colab": {
          "base_uri": "https://localhost:8080/"
        },
        "id": "M2fPXX5VlxNE",
        "outputId": "80b8ab4d-763e-4306-9e6b-0efcf0429049"
      },
      "execution_count": 14,
      "outputs": [
        {
          "output_type": "stream",
          "name": "stdout",
          "text": [
            "NC_018495.1\n"
          ]
        }
      ]
    },
    {
      "cell_type": "code",
      "source": [
        "bacteria_record = SeqIO.read(\"/content/drive/MyDrive/bacterial_seq/ncbi_dataset.fasta\", \"fasta\")\n",
        "bacteria_record"
      ],
      "metadata": {
        "colab": {
          "base_uri": "https://localhost:8080/"
        },
        "id": "nHH8B0UFAUrc",
        "outputId": "a377d41e-09b1-4009-ca72-0ec7bae686b2"
      },
      "execution_count": 15,
      "outputs": [
        {
          "output_type": "execute_result",
          "data": {
            "text/plain": [
              "SeqRecord(seq=Seq('TAAGTTATTATTTAGTTAATACTTTTAACAATATTATTAAGGTATTTAAAAAAT...TAC'), id='NC_018495.1', name='NC_018495.1', description='NC_018495.1 Mycoplasmoides genitalium M2321, complete sequence', dbxrefs=[])"
            ]
          },
          "metadata": {},
          "execution_count": 15
        }
      ]
    },
    {
      "cell_type": "code",
      "source": [
        "bacteria_dna = bacteria_record.seq"
      ],
      "metadata": {
        "id": "vYPrCxqPBXnt"
      },
      "execution_count": 16,
      "outputs": []
    },
    {
      "cell_type": "code",
      "source": [
        "bacteria_dna"
      ],
      "metadata": {
        "colab": {
          "base_uri": "https://localhost:8080/"
        },
        "id": "qKKR8ui1CFec",
        "outputId": "4abb1a35-4e46-43f3-e49b-e9a8eea5fae8"
      },
      "execution_count": 17,
      "outputs": [
        {
          "output_type": "execute_result",
          "data": {
            "text/plain": [
              "Seq('TAAGTTATTATTTAGTTAATACTTTTAACAATATTATTAAGGTATTTAAAAAAT...TAC')"
            ]
          },
          "metadata": {},
          "execution_count": 17
        }
      ]
    },
    {
      "cell_type": "code",
      "source": [
        "def ten_nucleotide_seq(genome):\n",
        "    genes = []\n",
        "    for ix, char in enumerate(genome):\n",
        "        if ix != 0 and ix%10 == 0:\n",
        "            genes.append(' ')\n",
        "        genes.append(char)\n",
        "    return ''.join(genes)"
      ],
      "metadata": {
        "id": "jK1LqmVOCSkf"
      },
      "execution_count": 18,
      "outputs": []
    },
    {
      "cell_type": "code",
      "source": [
        "nu_clr_switcher = {\n",
        "    'A': Back.GREEN,\n",
        "    'C': Back.YELLOW,\n",
        "    'G': Back.RED,\n",
        "    'T': Back.BLUE,\n",
        "    ' ': Style.RESET_ALL\n",
        "}\n",
        "def seq_repr(genome_str, strand ='dna'):\n",
        "    if strand == 'dna':\n",
        "        genome_str = ten_nucleotide_seq(genome=genome_str)\n",
        "        line_break_cntr = 0\n",
        "        for i in range(len(genome_str)):\n",
        "            if genome_str[i] == ' ':\n",
        "                line_break_cntr += 1\n",
        "                if line_break_cntr>0 and line_break_cntr%6==0:\n",
        "                    text = \"\\n\"\n",
        "                else:\n",
        "                    text = nu_clr_switcher[genome_str[i]] + genome_str[i]\n",
        "            else:\n",
        "                text = nu_clr_switcher[genome_str[i]] + genome_str[i]\n",
        "            print(text, end=\"\")\n",
        "        Style.RESET_ALL"
      ],
      "metadata": {
        "id": "MVj3aqPpGsOB"
      },
      "execution_count": 19,
      "outputs": []
    },
    {
      "cell_type": "code",
      "source": [
        "print(\"bacterial_genome: \")\n",
        "seq_repr(bacteria_dna[0:300])"
      ],
      "metadata": {
        "id": "Cc0dOwe6Iq01",
        "colab": {
          "base_uri": "https://localhost:8080/"
        },
        "outputId": "583f78ea-c684-4773-d6ad-dab1cea8aa4d"
      },
      "execution_count": 20,
      "outputs": [
        {
          "output_type": "stream",
          "name": "stdout",
          "text": [
            "bacterial_genome: \n",
            "\u001b[44mT\u001b[42mA\u001b[42mA\u001b[41mG\u001b[44mT\u001b[44mT\u001b[42mA\u001b[44mT\u001b[44mT\u001b[42mA\u001b[0m \u001b[44mT\u001b[44mT\u001b[44mT\u001b[42mA\u001b[41mG\u001b[44mT\u001b[44mT\u001b[42mA\u001b[42mA\u001b[44mT\u001b[0m \u001b[42mA\u001b[43mC\u001b[44mT\u001b[44mT\u001b[44mT\u001b[44mT\u001b[42mA\u001b[42mA\u001b[43mC\u001b[42mA\u001b[0m \u001b[42mA\u001b[44mT\u001b[42mA\u001b[44mT\u001b[44mT\u001b[42mA\u001b[44mT\u001b[44mT\u001b[42mA\u001b[42mA\u001b[0m \u001b[41mG\u001b[41mG\u001b[44mT\u001b[42mA\u001b[44mT\u001b[44mT\u001b[44mT\u001b[42mA\u001b[42mA\u001b[42mA\u001b[0m \u001b[42mA\u001b[42mA\u001b[42mA\u001b[44mT\u001b[42mA\u001b[43mC\u001b[44mT\u001b[42mA\u001b[44mT\u001b[44mT\n",
            "\u001b[42mA\u001b[44mT\u001b[42mA\u001b[41mG\u001b[44mT\u001b[42mA\u001b[44mT\u001b[44mT\u001b[44mT\u001b[42mA\u001b[0m \u001b[42mA\u001b[43mC\u001b[41mG\u001b[44mT\u001b[42mA\u001b[41mG\u001b[44mT\u001b[44mT\u001b[42mA\u001b[42mA\u001b[0m \u001b[42mA\u001b[44mT\u001b[42mA\u001b[43mC\u001b[44mT\u001b[44mT\u001b[44mT\u001b[43mC\u001b[43mC\u001b[44mT\u001b[0m \u001b[44mT\u001b[42mA\u001b[42mA\u001b[44mT\u001b[42mA\u001b[43mC\u001b[44mT\u001b[41mG\u001b[44mT\u001b[44mT\u001b[0m \u001b[42mA\u001b[42mA\u001b[42mA\u001b[44mT\u001b[44mT\u001b[42mA\u001b[44mT\u001b[42mA\u001b[44mT\u001b[44mT\u001b[0m \u001b[43mC\u001b[42mA\u001b[42mA\u001b[44mT\u001b[43mC\u001b[42mA\u001b[42mA\u001b[44mT\u001b[42mA\u001b[43mC\n",
            "\u001b[42mA\u001b[44mT\u001b[42mA\u001b[44mT\u001b[42mA\u001b[44mT\u001b[42mA\u001b[42mA\u001b[44mT\u001b[42mA\u001b[0m \u001b[44mT\u001b[44mT\u001b[42mA\u001b[44mT\u001b[44mT\u001b[42mA\u001b[42mA\u001b[42mA\u001b[42mA\u001b[44mT\u001b[0m \u001b[42mA\u001b[43mC\u001b[44mT\u001b[44mT\u001b[41mG\u001b[42mA\u001b[44mT\u001b[42mA\u001b[42mA\u001b[41mG\u001b[0m \u001b[44mT\u001b[42mA\u001b[44mT\u001b[44mT\u001b[42mA\u001b[44mT\u001b[44mT\u001b[44mT\u001b[42mA\u001b[41mG\u001b[0m \u001b[42mA\u001b[44mT\u001b[42mA\u001b[44mT\u001b[44mT\u001b[42mA\u001b[41mG\u001b[42mA\u001b[43mC\u001b[42mA\u001b[0m \u001b[42mA\u001b[42mA\u001b[44mT\u001b[42mA\u001b[43mC\u001b[44mT\u001b[42mA\u001b[42mA\u001b[44mT\u001b[44mT\n",
            "\u001b[44mT\u001b[44mT\u001b[42mA\u001b[44mT\u001b[42mA\u001b[44mT\u001b[44mT\u001b[41mG\u001b[43mC\u001b[44mT\u001b[0m \u001b[44mT\u001b[44mT\u001b[42mA\u001b[42mA\u001b[44mT\u001b[42mA\u001b[43mC\u001b[44mT\u001b[44mT\u001b[42mA\u001b[0m \u001b[42mA\u001b[44mT\u001b[42mA\u001b[42mA\u001b[42mA\u001b[44mT\u001b[42mA\u001b[43mC\u001b[44mT\u001b[42mA\u001b[0m \u001b[43mC\u001b[44mT\u001b[44mT\u001b[42mA\u001b[44mT\u001b[41mG\u001b[44mT\u001b[42mA\u001b[44mT\u001b[44mT\u001b[0m \u001b[42mA\u001b[42mA\u001b[41mG\u001b[44mT\u001b[42mA\u001b[42mA\u001b[42mA\u001b[44mT\u001b[42mA\u001b[44mT\u001b[0m \u001b[44mT\u001b[42mA\u001b[43mC\u001b[44mT\u001b[41mG\u001b[44mT\u001b[42mA\u001b[42mA\u001b[44mT\u001b[42mA\n",
            "\u001b[43mC\u001b[44mT\u001b[42mA\u001b[42mA\u001b[44mT\u001b[42mA\u001b[42mA\u001b[43mC\u001b[42mA\u001b[42mA\u001b[0m \u001b[44mT\u001b[42mA\u001b[44mT\u001b[44mT\u001b[42mA\u001b[44mT\u001b[44mT\u001b[42mA\u001b[43mC\u001b[42mA\u001b[0m \u001b[42mA\u001b[44mT\u001b[42mA\u001b[44mT\u001b[41mG\u001b[43mC\u001b[44mT\u001b[42mA\u001b[41mG\u001b[42mA\u001b[0m \u001b[42mA\u001b[44mT\u001b[42mA\u001b[42mA\u001b[44mT\u001b[42mA\u001b[44mT\u001b[44mT\u001b[41mG\u001b[43mC\u001b[0m \u001b[44mT\u001b[42mA\u001b[41mG\u001b[44mT\u001b[42mA\u001b[44mT\u001b[43mC\u001b[42mA\u001b[42mA\u001b[44mT\u001b[0m \u001b[42mA\u001b[42mA\u001b[44mT\u001b[44mT\u001b[42mA\u001b[43mC\u001b[44mT\u001b[42mA\u001b[42mA\u001b[44mT"
          ]
        }
      ]
    },
    {
      "cell_type": "code",
      "source": [
        "length = len(bacteria_dna)\n",
        "print(length)"
      ],
      "metadata": {
        "id": "IU-mc02CVNtu",
        "colab": {
          "base_uri": "https://localhost:8080/"
        },
        "outputId": "89e30e22-e1a4-45d1-8050-98b99daedb60"
      },
      "execution_count": 21,
      "outputs": [
        {
          "output_type": "stream",
          "name": "stdout",
          "text": [
            "579977\n"
          ]
        }
      ]
    },
    {
      "cell_type": "code",
      "source": [
        "#composition of each nucleotide\n"
      ],
      "metadata": {
        "id": "5Se4hhcPhZI_"
      },
      "execution_count": null,
      "outputs": []
    },
    {
      "cell_type": "code",
      "source": [
        "def nucleotides_composition(seq):\n",
        "    nucleotides = {'A': 0, 'C': 0, 'G': 0, 'T': 0}\n",
        "    for n in nucleotides:\n",
        "        nucleotides[n] = seq.count(n)/len(seq)*100\n",
        "    return nucleotides"
      ],
      "metadata": {
        "id": "NrxkjuMHhk1v"
      },
      "execution_count": 22,
      "outputs": []
    },
    {
      "cell_type": "code",
      "source": [
        "ndict=nucleotides_composition(bacteria_dna)\n",
        "ndict"
      ],
      "metadata": {
        "colab": {
          "base_uri": "https://localhost:8080/"
        },
        "id": "ALVmOOkwh4EM",
        "outputId": "49fd0471-643b-4249-98f1-396aa1bcff29"
      },
      "execution_count": 23,
      "outputs": [
        {
          "output_type": "execute_result",
          "data": {
            "text/plain": [
              "{'A': 34.579819544568146,\n",
              " 'C': 15.756142053909034,\n",
              " 'G': 15.91804502592344,\n",
              " 'T': 33.745993375599376}"
            ]
          },
          "metadata": {},
          "execution_count": 23
        }
      ]
    },
    {
      "cell_type": "code",
      "source": [
        "import pandas as pd\n",
        "ndf = pd.DataFrame.from_dict(ndict, orient ='index')\n",
        "ndf = ndf.reset_index()\n",
        "ndf = ndf.rename(columns={\"index\": \"Nucleotide\", 0: \"Composition\"})"
      ],
      "metadata": {
        "id": "WZMdOLE0iCVL"
      },
      "execution_count": 24,
      "outputs": []
    },
    {
      "cell_type": "code",
      "source": [
        "ax = sns.barplot(x=\"Nucleotide\", y=\"Composition\", data=ndf)"
      ],
      "metadata": {
        "colab": {
          "base_uri": "https://localhost:8080/",
          "height": 449
        },
        "id": "QU-4oj-5iHXo",
        "outputId": "e186dc5d-2410-4568-ce3b-eaaa89112e27"
      },
      "execution_count": 25,
      "outputs": [
        {
          "output_type": "display_data",
          "data": {
            "text/plain": [
              "<Figure size 640x480 with 1 Axes>"
            ],
            "image/png": "[encoded data removed]"
          },
          "metadata": {}
        }
      ]
    },
    {
      "cell_type": "code",
      "source": [
        "#GC content of the DNA"
      ],
      "metadata": {
        "id": "CNgaLnqxiThE"
      },
      "execution_count": null,
      "outputs": []
    },
    {
      "cell_type": "code",
      "source": [
        "from Bio.SeqUtils import gc_fraction\n",
        "gc_content = gc_fraction(bacteria_dna) * 100"
      ],
      "metadata": {
        "id": "etxsrayniZXf"
      },
      "execution_count": 26,
      "outputs": []
    },
    {
      "cell_type": "code",
      "source": [
        "print(gc_content)"
      ],
      "metadata": {
        "colab": {
          "base_uri": "https://localhost:8080/"
        },
        "id": "b8M3lBZXwoHD",
        "outputId": "79fd5a9b-f5b4-4fdc-ae2f-35fa97e0f25e"
      },
      "execution_count": 27,
      "outputs": [
        {
          "output_type": "stream",
          "name": "stdout",
          "text": [
            "31.67418707983248\n"
          ]
        }
      ]
    }
  ]
}